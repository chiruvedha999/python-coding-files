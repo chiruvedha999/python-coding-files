{
 "cells": [
  {
   "cell_type": "code",
   "execution_count": 2,
   "id": "cc5b9410",
   "metadata": {},
   "outputs": [],
   "source": [
    "#1 write a python program to convert a string to lower case"
   ]
  },
  {
   "cell_type": "code",
   "execution_count": 3,
   "id": "bda890ce",
   "metadata": {},
   "outputs": [],
   "source": []
  },
  {
   "cell_type": "raw",
   "id": "676edbe0",
   "metadata": {},
   "source": []
  },
  {
   "cell_type": "raw",
   "id": "678ce2ab",
   "metadata": {},
   "source": []
  },
  {
   "cell_type": "raw",
   "id": "1cb3b55d",
   "metadata": {},
   "source": []
  },
  {
   "cell_type": "code",
   "execution_count": 99,
   "id": "5b2d06b2",
   "metadata": {},
   "outputs": [],
   "source": [
    "# write a pyhon program to convert a string to lower case"
   ]
  },
  {
   "cell_type": "code",
   "execution_count": 5,
   "id": "a517e148",
   "metadata": {},
   "outputs": [],
   "source": [
    "x='CHIRUVEDHA'"
   ]
  },
  {
   "cell_type": "code",
   "execution_count": 6,
   "id": "6b077e68",
   "metadata": {},
   "outputs": [
    {
     "data": {
      "text/plain": [
       "'chiruvedha'"
      ]
     },
     "execution_count": 6,
     "metadata": {},
     "output_type": "execute_result"
    }
   ],
   "source": [
    "x.lower()"
   ]
  },
  {
   "cell_type": "code",
   "execution_count": 7,
   "id": "9702a590",
   "metadata": {},
   "outputs": [],
   "source": [
    "# write a python program to convertonly odd indexed characters into lower case"
   ]
  },
  {
   "cell_type": "code",
   "execution_count": 12,
   "id": "149410d9",
   "metadata": {},
   "outputs": [],
   "source": [
    "x='SRIRAM'"
   ]
  },
  {
   "cell_type": "code",
   "execution_count": 17,
   "id": "0ad0db95",
   "metadata": {},
   "outputs": [
    {
     "data": {
      "text/plain": [
       "'SrIrAm'"
      ]
     },
     "execution_count": 17,
     "metadata": {},
     "output_type": "execute_result"
    }
   ],
   "source": [
    "x[0].upper()+x[1].lower()+x[2].upper()+x[3].lower()+x[4].upper()+x[5].lower()"
   ]
  },
  {
   "cell_type": "code",
   "execution_count": 18,
   "id": "d0ed3026",
   "metadata": {},
   "outputs": [],
   "source": [
    "# write a python program to convert only even indexed character to lower case"
   ]
  },
  {
   "cell_type": "code",
   "execution_count": 19,
   "id": "1ad49cf8",
   "metadata": {},
   "outputs": [],
   "source": [
    "x='HANUMAN'"
   ]
  },
  {
   "cell_type": "code",
   "execution_count": 20,
   "id": "c0d5a918",
   "metadata": {},
   "outputs": [
    {
     "data": {
      "text/plain": [
       "'hAnUmAn'"
      ]
     },
     "execution_count": 20,
     "metadata": {},
     "output_type": "execute_result"
    }
   ],
   "source": [
    "x[0].lower()+x[1].upper()+x[2].lower()+x[3].upper()+x[4].lower()+x[5].upper()+x[6].lower()"
   ]
  },
  {
   "cell_type": "code",
   "execution_count": 21,
   "id": "8513f6e5",
   "metadata": {},
   "outputs": [],
   "source": [
    "# write a python program to convert only odd indexed character to upper  case"
   ]
  },
  {
   "cell_type": "code",
   "execution_count": 22,
   "id": "97309ffe",
   "metadata": {},
   "outputs": [],
   "source": [
    "x='ramana'"
   ]
  },
  {
   "cell_type": "code",
   "execution_count": 23,
   "id": "9c82a064",
   "metadata": {},
   "outputs": [
    {
     "data": {
      "text/plain": [
       "'rAmAnA'"
      ]
     },
     "execution_count": 23,
     "metadata": {},
     "output_type": "execute_result"
    }
   ],
   "source": [
    "x[0].lower()+x[1].upper()+x[2].lower()+x[3].upper()+x[4].lower()+x[5].upper()"
   ]
  },
  {
   "cell_type": "code",
   "execution_count": 25,
   "id": "2529d128",
   "metadata": {},
   "outputs": [],
   "source": [
    "# write a python program to convert only even indexed character to upper case"
   ]
  },
  {
   "cell_type": "code",
   "execution_count": 26,
   "id": "b443f887",
   "metadata": {},
   "outputs": [],
   "source": [
    "x='venkat'"
   ]
  },
  {
   "cell_type": "code",
   "execution_count": 27,
   "id": "231191bf",
   "metadata": {},
   "outputs": [
    {
     "data": {
      "text/plain": [
       "'VeNkAt'"
      ]
     },
     "execution_count": 27,
     "metadata": {},
     "output_type": "execute_result"
    }
   ],
   "source": [
    "x[0].upper()+x[1].lower()+x[2].upper()+x[3].lower()+x[4].upper()+x[5].lower()"
   ]
  },
  {
   "cell_type": "code",
   "execution_count": 28,
   "id": "b658bdfa",
   "metadata": {},
   "outputs": [],
   "source": [
    "# write a python program where you have differant variable which contains your name,sex,age,phoneno and mothers name.and create a variable named bio-data where you will use all this variable"
   ]
  },
  {
   "cell_type": "code",
   "execution_count": 36,
   "id": "32b3b711",
   "metadata": {},
   "outputs": [
    {
     "data": {
      "text/plain": [
       "'my name is chiranjeevi mysex is male my age is 23 my ph_no is 9008712345 my father name is venky and my mother name is ramana'"
      ]
     },
     "execution_count": 36,
     "metadata": {},
     "output_type": "execute_result"
    }
   ],
   "source": [
    "name='chiranjeevi'\n",
    "sex='male'\n",
    "age=23\n",
    "ph_no=9008712345\n",
    "fathername='venky'\n",
    "mothername='ramana'\n",
    "'my name is {} mysex is {} my age is {} my ph_no is {} my father name is {} and my mother name is {}'.format(name,sex,age,ph_no,fathername,mothername)"
   ]
  },
  {
   "cell_type": "code",
   "execution_count": 37,
   "id": "6a90f7cc",
   "metadata": {},
   "outputs": [],
   "source": [
    "# write a python program to count how many times \"@\" occured"
   ]
  },
  {
   "cell_type": "code",
   "execution_count": 38,
   "id": "df0b5dbf",
   "metadata": {},
   "outputs": [],
   "source": [
    "x='asd@fe@ff@@d'"
   ]
  },
  {
   "cell_type": "code",
   "execution_count": 39,
   "id": "10660282",
   "metadata": {},
   "outputs": [
    {
     "data": {
      "text/plain": [
       "4"
      ]
     },
     "execution_count": 39,
     "metadata": {},
     "output_type": "execute_result"
    }
   ],
   "source": [
    "x.count('@')"
   ]
  },
  {
   "cell_type": "code",
   "execution_count": 98,
   "id": "7c42fe88",
   "metadata": {},
   "outputs": [],
   "source": [
    "# write a python program to get only names from the string 'name1.@gmail.com,name2.@gmail.com,name3.@gmail.com'"
   ]
  },
  {
   "cell_type": "code",
   "execution_count": 97,
   "id": "1561f935",
   "metadata": {},
   "outputs": [
    {
     "data": {
      "text/plain": [
       "'name1,name2,name3'"
      ]
     },
     "execution_count": 97,
     "metadata": {},
     "output_type": "execute_result"
    }
   ],
   "source": [
    "x='name1.@gmail.com,name2.@gmail.com,name3.@gmail.com'\n",
    "\n",
    "x.replace('name1.@gmail.com','name1').replace('name2.@gmail.com','name2').replace('name3.@gmail.com','name3')"
   ]
  },
  {
   "cell_type": "code",
   "execution_count": 40,
   "id": "25e67565",
   "metadata": {},
   "outputs": [],
   "source": [
    "# given a string of odd length greater than 9,return a new string made of middle three character of a given strings"
   ]
  },
  {
   "cell_type": "code",
   "execution_count": 72,
   "id": "1beec01d",
   "metadata": {},
   "outputs": [],
   "source": [
    "x='mynameisan'"
   ]
  },
  {
   "cell_type": "code",
   "execution_count": 73,
   "id": "74da08fb",
   "metadata": {},
   "outputs": [
    {
     "data": {
      "text/plain": [
       "'mei'"
      ]
     },
     "execution_count": 73,
     "metadata": {},
     "output_type": "execute_result"
    }
   ],
   "source": [
    "x[4:7]"
   ]
  },
  {
   "cell_type": "code",
   "execution_count": 43,
   "id": "ed0760f5",
   "metadata": {},
   "outputs": [],
   "source": [
    "# write a python program to insert a 2string in the middle of 1string"
   ]
  },
  {
   "cell_type": "code",
   "execution_count": 65,
   "id": "408c60fd",
   "metadata": {},
   "outputs": [
    {
     "data": {
      "text/plain": [
       "'msayn'"
      ]
     },
     "execution_count": 65,
     "metadata": {},
     "output_type": "execute_result"
    }
   ],
   "source": [
    "x='myn'\n",
    "y='sa'\n",
    "x[0:1]+y[0:2]+x[1:3]"
   ]
  },
  {
   "cell_type": "code",
   "execution_count": 49,
   "id": "c630f9e6",
   "metadata": {},
   "outputs": [],
   "source": [
    "# write a program to remove vowels from entire alphabet"
   ]
  },
  {
   "cell_type": "code",
   "execution_count": 62,
   "id": "122cf4f6",
   "metadata": {},
   "outputs": [
    {
     "data": {
      "text/plain": [
       "'bcdfghjklmnpqrst'"
      ]
     },
     "execution_count": 62,
     "metadata": {},
     "output_type": "execute_result"
    }
   ],
   "source": [
    "x='abcdefghijklmnopqrstuvwxyz'\n",
    "x[1:4]+x[5:8]+x[9:14]+x[15:20]"
   ]
  },
  {
   "cell_type": "code",
   "execution_count": null,
   "id": "d47c2c3b",
   "metadata": {},
   "outputs": [],
   "source": []
  },
  {
   "cell_type": "code",
   "execution_count": null,
   "id": "5f193e36",
   "metadata": {},
   "outputs": [],
   "source": []
  }
 ],
 "metadata": {
  "kernelspec": {
   "display_name": "Python 3 (ipykernel)",
   "language": "python",
   "name": "python3"
  },
  "language_info": {
   "codemirror_mode": {
    "name": "ipython",
    "version": 3
   },
   "file_extension": ".py",
   "mimetype": "text/x-python",
   "name": "python",
   "nbconvert_exporter": "python",
   "pygments_lexer": "ipython3",
   "version": "3.11.3"
  }
 },
 "nbformat": 4,
 "nbformat_minor": 5
}
